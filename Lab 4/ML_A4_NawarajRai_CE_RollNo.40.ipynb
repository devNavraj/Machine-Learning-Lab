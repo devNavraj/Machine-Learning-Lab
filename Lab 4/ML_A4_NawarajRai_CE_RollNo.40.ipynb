{
 "cells": [
  {
   "cell_type": "markdown",
   "id": "alpine-baseline",
   "metadata": {},
   "source": [
    "# Topic Modeling\n",
    "## Latent Dirichlet Allocation - LDA\n",
    "### Building a topic model"
   ]
  },
  {
   "cell_type": "code",
   "execution_count": 1,
   "id": "liked-technician",
   "metadata": {},
   "outputs": [],
   "source": [
    "import gensim"
   ]
  },
  {
   "cell_type": "code",
   "execution_count": 2,
   "id": "united-nylon",
   "metadata": {},
   "outputs": [],
   "source": [
    "from gensim import corpora, models"
   ]
  },
  {
   "cell_type": "code",
   "execution_count": 3,
   "id": "otherwise-improvement",
   "metadata": {},
   "outputs": [],
   "source": [
    "from os import path"
   ]
  },
  {
   "cell_type": "markdown",
   "id": "injured-sponsorship",
   "metadata": {},
   "source": [
    "Load the data"
   ]
  },
  {
   "cell_type": "code",
   "execution_count": 4,
   "id": "dependent-kitchen",
   "metadata": {},
   "outputs": [],
   "source": [
    "corpus = corpora.BleiCorpus('./data/ap/ap.dat', './data/ap/vocab.txt')"
   ]
  },
  {
   "cell_type": "markdown",
   "id": "closed-tooth",
   "metadata": {},
   "source": [
    "Build the LDA model"
   ]
  },
  {
   "cell_type": "code",
   "execution_count": 5,
   "id": "widespread-amsterdam",
   "metadata": {},
   "outputs": [],
   "source": [
    "model = models.ldamodel.LdaModel(corpus, num_topics=100, id2word=corpus.id2word)"
   ]
  },
  {
   "cell_type": "code",
   "execution_count": 6,
   "id": "dense-socket",
   "metadata": {},
   "outputs": [
    {
     "name": "stdout",
     "output_type": "stream",
     "text": [
      "[(2, 0.41156003), (4, 0.02499845), (8, 0.024362054), (16, 0.032788057), (38, 0.067108594), (43, 0.024014268), (48, 0.01602851), (70, 0.019357346), (77, 0.18691927), (81, 0.011917967), (84, 0.012145045), (86, 0.06627487), (92, 0.091026135)]\n"
     ]
    }
   ],
   "source": [
    "doc = corpus.docbyoffset(0)\n",
    "topics = model[doc]\n",
    "print(topics)"
   ]
  },
  {
   "cell_type": "markdown",
   "id": "verbal-enforcement",
   "metadata": {},
   "source": [
    "Plotting a histogram of the number of topics that each document refers to:"
   ]
  },
  {
   "cell_type": "code",
   "execution_count": 7,
   "id": "directed-march",
   "metadata": {},
   "outputs": [],
   "source": [
    "import matplotlib.pyplot as plt"
   ]
  },
  {
   "cell_type": "code",
   "execution_count": 8,
   "id": "mobile-reasoning",
   "metadata": {},
   "outputs": [
    {
     "data": {
      "text/plain": [
       "Text(0.5, 0, 'Number of topics')"
      ]
     },
     "execution_count": 8,
     "metadata": {},
     "output_type": "execute_result"
    },
    {
     "data": {
      "image/png": "[encoded data removed]",
      "text/plain": [
       "<Figure size 432x288 with 1 Axes>"
      ]
     },
     "metadata": {
      "needs_background": "light"
     },
     "output_type": "display_data"
    }
   ],
   "source": [
    "num_topics_used = [len(model[doc]) for doc in corpus]\n",
    "fig,ax = plt.subplots()\n",
    "ax.hist(num_topics_used)\n",
    "ax.set_ylabel('Number of documents')\n",
    "ax.set_xlabel('Number of topics')"
   ]
  },
  {
   "cell_type": "code",
   "execution_count": 9,
   "id": "downtown-hunger",
   "metadata": {},
   "outputs": [],
   "source": [
    "model1 = models.ldamodel.LdaModel(corpus, num_topics=100, id2word=corpus.id2word, alpha=1)"
   ]
  },
  {
   "cell_type": "code",
   "execution_count": 10,
   "id": "affiliated-strand",
   "metadata": {},
   "outputs": [
    {
     "data": {
      "text/plain": [
       "Text(40, 300, 'alpha=1.0')"
      ]
     },
     "execution_count": 10,
     "metadata": {},
     "output_type": "execute_result"
    },
    {
     "data": {
      "image/png": "[encoded data removed]",
      "text/plain": [
       "<Figure size 432x288 with 1 Axes>"
      ]
     },
     "metadata": {
      "needs_background": "light"
     },
     "output_type": "display_data"
    }
   ],
   "source": [
    "num_topics_used1 = [len(model1[doc]) for doc in corpus]\n",
    "fig,ax = plt.subplots()\n",
    "ax.hist([num_topics_used, num_topics_used1])\n",
    "ax.set_ylabel('Number ofdocuments')\n",
    "ax.set_xlabel('Number of topics')\n",
    "ax.text(10, 800, 'default alpha')\n",
    "ax.text(40, 300, 'alpha=1.0')"
   ]
  },
  {
   "cell_type": "code",
   "execution_count": 11,
   "id": "white-pierce",
   "metadata": {},
   "outputs": [],
   "source": [
    "from gensim import matutils\n",
    "import numpy as np"
   ]
  },
  {
   "cell_type": "code",
   "execution_count": 12,
   "id": "thrown-money",
   "metadata": {},
   "outputs": [],
   "source": [
    "topics = matutils.corpus2dense(model[corpus], num_terms=model.num_topics)"
   ]
  },
  {
   "cell_type": "markdown",
   "id": "herbal-system",
   "metadata": {},
   "source": [
    "Filtering out stop words:"
   ]
  },
  {
   "cell_type": "code",
   "execution_count": 13,
   "id": "abandoned-district",
   "metadata": {},
   "outputs": [],
   "source": [
    "import nltk.stem"
   ]
  },
  {
   "cell_type": "code",
   "execution_count": 14,
   "id": "moved-manor",
   "metadata": {},
   "outputs": [
    {
     "name": "stderr",
     "output_type": "stream",
     "text": [
      "[nltk_data] Downloading package stopwords to\n",
      "[nltk_data]     C:\\Users\\praab\\AppData\\Roaming\\nltk_data...\n",
      "[nltk_data]   Package stopwords is already up-to-date!\n"
     ]
    },
    {
     "data": {
      "text/plain": [
       "True"
      ]
     },
     "execution_count": 14,
     "metadata": {},
     "output_type": "execute_result"
    }
   ],
   "source": [
    "nltk.download('stopwords')"
   ]
  },
  {
   "cell_type": "code",
   "execution_count": 15,
   "id": "swedish-washington",
   "metadata": {},
   "outputs": [],
   "source": [
    "english_stemmer = nltk.stem.SnowballStemmer('english')\n",
    "stopwords = set(nltk.corpus.stopwords.words('english'))\n",
    "stopwords.update(['from:', 'subject:', 'writes:', 'writes'])"
   ]
  },
  {
   "cell_type": "code",
   "execution_count": 16,
   "id": "auburn-diploma",
   "metadata": {},
   "outputs": [],
   "source": [
    "# Adaptor class\n",
    "class DirectText(corpora.textcorpus.TextCorpus):\n",
    "    def get_texts(self):\n",
    "        return self.input\n",
    "\n",
    "    def __len__(self):\n",
    "        return len(self.input)"
   ]
  },
  {
   "cell_type": "markdown",
   "id": "verbal-shoot",
   "metadata": {},
   "source": [
    "Load the data"
   ]
  },
  {
   "cell_type": "code",
   "execution_count": 17,
   "id": "handled-glass",
   "metadata": {},
   "outputs": [],
   "source": [
    "import sklearn.datasets"
   ]
  },
  {
   "cell_type": "code",
   "execution_count": 18,
   "id": "anticipated-laundry",
   "metadata": {},
   "outputs": [
    {
     "name": "stderr",
     "output_type": "stream",
     "text": [
      "c:\\users\\praab\\appdata\\local\\programs\\python\\python38\\lib\\site-packages\\sklearn\\utils\\validation.py:70: FutureWarning: Pass data_home=20news-18828, subset=train as keyword args. From version 1.0 (renaming of 0.25) passing these as positional arguments will result in an error\n",
      "  warnings.warn(f\"Pass {args_msg} as keyword args. From version \"\n"
     ]
    }
   ],
   "source": [
    "dataset = sklearn.datasets.fetch_20newsgroups(\"20news-18828\", \"train\")"
   ]
  },
  {
   "cell_type": "markdown",
   "id": "western-absolute",
   "metadata": {},
   "source": [
    "Preprocessing the data to split the data into words and remove stopwords:"
   ]
  },
  {
   "cell_type": "code",
   "execution_count": 19,
   "id": "younger-consortium",
   "metadata": {},
   "outputs": [],
   "source": [
    "otexts = dataset.data\n",
    "texts = dataset.data\n",
    "\n",
    "texts = [t.split() for t in texts]\n",
    "texts = [map(lambda w: w.lower(), t) for t in texts]\n",
    "texts = [filter(lambda s: not len(set(\"+-.?!()>@012345689\") & set(s)), t) for t in texts]\n",
    "texts = [filter(lambda s: (len(s) > 3) and (s not in stopwords), t) for t in texts]\n",
    "texts = [[english_stemmer.stem(w) for w in t] for t in texts]"
   ]
  },
  {
   "cell_type": "markdown",
   "id": "beneficial-criminal",
   "metadata": {},
   "source": [
    "Removing words that are too common:"
   ]
  },
  {
   "cell_type": "code",
   "execution_count": 20,
   "id": "sealed-flour",
   "metadata": {},
   "outputs": [],
   "source": [
    "from collections import defaultdict\n",
    "usage = defaultdict(int)\n",
    "for t in texts:\n",
    "    for w in set(t):\n",
    "        usage[w] += 1\n",
    "limit = len(texts) / 10\n",
    "too_common = [w for w in usage if usage[w] > limit]\n",
    "too_common = set(too_common)\n",
    "texts = [[w for w in t if w not in too_common] for t in texts]"
   ]
  },
  {
   "cell_type": "code",
   "execution_count": 21,
   "id": "civic-gnome",
   "metadata": {},
   "outputs": [],
   "source": [
    "corpus = DirectText(texts)\n",
    "dictionary = corpus.dictionary\n",
    "try:\n",
    "    dictionary['computer']\n",
    "except:\n",
    "    pass\n",
    "\n",
    "model = models.ldamodel.LdaModel(\n",
    "    corpus, num_topics=100, id2word=dictionary.id2token)\n",
    "\n",
    "thetas = np.zeros((len(texts), 100))\n",
    "for i, c in enumerate(corpus):\n",
    "    for ti, v in model[c]:\n",
    "        thetas[i, ti] += v"
   ]
  },
  {
   "cell_type": "markdown",
   "id": "reflected-offense",
   "metadata": {},
   "source": [
    "### Comparing documents by topics\n",
    "Computing all pairwise distances using pdist function in SciPy"
   ]
  },
  {
   "cell_type": "code",
   "execution_count": 22,
   "id": "noted-saudi",
   "metadata": {},
   "outputs": [],
   "source": [
    "from scipy.spatial import distance"
   ]
  },
  {
   "cell_type": "code",
   "execution_count": 23,
   "id": "subtle-number",
   "metadata": {},
   "outputs": [],
   "source": [
    "pairwise = distance.squareform(distance.pdist(thetas))\n",
    "# Set the diagonal elements of the distance matrix to a high value\n",
    "largest = pairwise.max()\n",
    "for ti in range(len(pairwise)):\n",
    "    pairwise[ti, ti] = largest+1"
   ]
  },
  {
   "cell_type": "code",
   "execution_count": 24,
   "id": "wireless-fault",
   "metadata": {},
   "outputs": [],
   "source": [
    "def closest_to(doc_id):\n",
    "    return pairwise[doc_id].argmin()"
   ]
  },
  {
   "cell_type": "markdown",
   "id": "viral-substance",
   "metadata": {},
   "source": [
    "Possible query document:"
   ]
  },
  {
   "cell_type": "code",
   "execution_count": 25,
   "id": "proof-happiness",
   "metadata": {},
   "outputs": [
    {
     "name": "stdout",
     "output_type": "stream",
     "text": [
      "From: guykuo@carson.u.washington.edu (Guy Kuo)\n",
      "Subject: SI Clock Poll - Final Call\n",
      "Summary: Final call for SI clock reports\n",
      "Keywords: SI,acceleration,clock,upgrade\n",
      "Article-I.D.: shelley.1qvfo9INNc3s\n",
      "Organization: University of Washington\n",
      "Lines: 11\n",
      "NNTP-Posting-Host: carson.u.washington.edu\n",
      "\n",
      "A fair number of brave souls who upgraded their SI clock oscillator have\n",
      "shared their experiences for this poll. Please send a brief message detailing\n",
      "your experiences with the procedure. Top speed attained, CPU rated speed,\n",
      "add on cards and adapters, heat sinks, hour of usage per day, floppy disk\n",
      "functionality with 800 and 1.4 m floppies are especially requested.\n",
      "\n",
      "I will be summarizing in the next two days, so please add to the network\n",
      "knowledge base if you have done the clock upgrade and haven't answered this\n",
      "poll. Thanks.\n",
      "\n",
      "Guy Kuo <guykuo@u.washington.edu>\n",
      "\n"
     ]
    }
   ],
   "source": [
    "print(otexts[1])"
   ]
  },
  {
   "cell_type": "markdown",
   "id": "accessible-consortium",
   "metadata": {},
   "source": [
    "If we ask for the most similar document to closest_to(1), we receive the following document as a result:"
   ]
  },
  {
   "cell_type": "code",
   "execution_count": 26,
   "id": "juvenile-employer",
   "metadata": {},
   "outputs": [
    {
     "name": "stdout",
     "output_type": "stream",
     "text": [
      "From: guykuo@carson.u.washington.edu (Guy Kuo)\n",
      "Subject: SI clock reports\n",
      "Summary: Request for SI clock poll\n",
      "Keywords: SI,clock,upgrade,oscillator,chip\n",
      "Article-I.D.: shelley.1qokppINNree\n",
      "Organization: University of Washington\n",
      "Lines: 18\n",
      "NNTP-Posting-Host: carson.u.washington.edu\n",
      "\n",
      "I am continuing to collect user results to produce a more comprehensive\n",
      "report on IIsi clock oscillator upgrades. I you have attempted the modification\n",
      "please drop me a note with details of your experience. The more reports \n",
      "obtained, the more accurate the numbers I will generate.\n",
      "\n",
      "If possible, please include the following:\n",
      "  1) Top speed achieved\n",
      "  2) System configuration at top Mhz setting\n",
      "       a) speed rating of the CPU (the last two digits printed on CPU #)\n",
      "       b) presence of additional heat sinks\n",
      "       c) Nubus & FPU cards used\n",
      "       d) floppy drive functionality on both 800 and 1.4 M disks\n",
      "  3) Damage incurred during modification\n",
      "  4) Damage due to higher speed use\n",
      "  5) Average length of time the CPU is on. (i.e. 8 hours a day)\n",
      "  6) Unusual other modifications to the usual procedure\n",
      "\n",
      "Guy Kuo <guykuo@u.washington.edu>\n",
      "\n"
     ]
    }
   ],
   "source": [
    "print(otexts[closest_to(1)])"
   ]
  },
  {
   "cell_type": "markdown",
   "id": "moderate-intensity",
   "metadata": {},
   "source": [
    "### The system returns a post by the same author discussing SI clock."
   ]
  },
  {
   "cell_type": "code",
   "execution_count": null,
   "id": "minimal-mainland",
   "metadata": {},
   "outputs": [],
   "source": []
  }
 ],
 "metadata": {
  "kernelspec": {
   "display_name": "Python 3",
   "language": "python",
   "name": "python3"
  },
  "language_info": {
   "codemirror_mode": {
    "name": "ipython",
    "version": 3
   },
   "file_extension": ".py",
   "mimetype": "text/x-python",
   "name": "python",
   "nbconvert_exporter": "python",
   "pygments_lexer": "ipython3",
   "version": "3.8.8"
  }
 },
 "nbformat": 4,
 "nbformat_minor": 5
}
